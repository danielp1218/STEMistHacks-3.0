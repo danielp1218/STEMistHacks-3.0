{
  "nbformat": 4,
  "nbformat_minor": 0,
  "metadata": {
    "colab": {
      "provenance": [],
      "gpuType": "T4"
    },
    "kernelspec": {
      "name": "python3",
      "display_name": "Python 3"
    },
    "language_info": {
      "name": "python"
    },
    "accelerator": "GPU"
  },
  "cells": [
    {
      "cell_type": "code",
      "source": [
        "!pip install ultralytics"
      ],
      "metadata": {
        "colab": {
          "base_uri": "https://localhost:8080/"
        },
        "id": "kIqnC1KNsEd5",
        "outputId": "e59e57b5-bd40-491d-a2d2-ea813a408d35"
      },
      "execution_count": 1,
      "outputs": [
      ]
    },
    {
      "cell_type": "code",
      "source": [
        "!pip install roboflow\n",
        "\n",
        "from roboflow import Roboflow\n",
        "rf = Roboflow(api_key=\"API_KEY\")\n",
        "project = rf.workspace(\"catdetection-rfl1p\").project(\"cat-detection-7bnmu\")\n",
        "version = project.version(5)\n",
        "dataset = version.download(\"yolov9\")\n"
      ],
      "metadata": {
        "colab": {
          "base_uri": "https://localhost:8080/"
        },
        "id": "1vv8CIQ4sMVy",
        "outputId": "758d9e67-49a5-4ba3-8abe-7098c9c6b722"
      },
      "execution_count": 2,
      "outputs": [
      ]
    },
    {
      "cell_type": "code",
      "execution_count": 3,
      "metadata": {
        "colab": {
          "base_uri": "https://localhost:8080/"
        },
        "id": "0Qq5_Ig5ANxk",
        "outputId": "04deed83-d8ff-461a-b139-b424c7323102"
      },
      "outputs": [
      ],
      "source": [
        "from ultralytics import YOLO\n",
        "\n",
        "# Load a model\n",
        "model = YOLO(\"/content/yolov9m.pt\")  # load a pretrained model (recommended for training)\n",
        "\n",
        "# Train the model with GPU\n",
        "results = model.train(data=\"/content/Cat-Detection-5/data.yaml\", epochs=100, imgsz=640, device=0)"
      ]
    }
  ]
}
